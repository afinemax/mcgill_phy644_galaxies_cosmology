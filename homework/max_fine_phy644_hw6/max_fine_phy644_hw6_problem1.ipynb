{
 "cells": [
  {
   "cell_type": "code",
   "execution_count": 2,
   "metadata": {},
   "outputs": [
    {
     "name": "stdout",
     "output_type": "stream",
     "text": [
      "Ω_γ,0 h² = 2.473e-05\n"
     ]
    }
   ],
   "source": [
    "import numpy as np\n",
    "import astropy.units as u\n",
    "from astropy.constants import G, c, sigma_sb\n",
    "\n",
    "# Define constants\n",
    "T0 = 2.7255 * u.K                 # CMB temperature\n",
    "H100 = 100 * u.km / u.s / u.Mpc   # Hubble constant for h=1\n",
    "\n",
    "# Radiation constant a = 4σ / c\n",
    "a = (4 * sigma_sb) / c\n",
    "\n",
    "# Equation: Ω_γ,0 h² = (8πG / (3 H100² c²)) * a * T0⁴\n",
    "Omega_gamma_h2 = (8 * np.pi * G / (3 * H100**2 * c**2)) * a * T0**4\n",
    "Omega_gamma_h2 = Omega_gamma_h2.decompose()\n",
    "\n",
    "print(f\"Ω_γ,0 h² = {Omega_gamma_h2:.3e}\")\n"
   ]
  },
  {
   "cell_type": "code",
   "execution_count": null,
   "metadata": {},
   "outputs": [],
   "source": [
    "2.47 × 10 ^{-5}"
   ]
  }
 ],
 "metadata": {
  "kernelspec": {
   "display_name": "masters_thesis",
   "language": "python",
   "name": "python3"
  },
  "language_info": {
   "codemirror_mode": {
    "name": "ipython",
    "version": 3
   },
   "file_extension": ".py",
   "mimetype": "text/x-python",
   "name": "python",
   "nbconvert_exporter": "python",
   "pygments_lexer": "ipython3",
   "version": "3.12.9"
  }
 },
 "nbformat": 4,
 "nbformat_minor": 2
}
