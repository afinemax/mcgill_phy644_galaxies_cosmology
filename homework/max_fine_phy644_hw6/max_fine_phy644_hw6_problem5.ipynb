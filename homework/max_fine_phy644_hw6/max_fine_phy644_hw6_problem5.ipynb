{
 "cells": [
  {
   "cell_type": "code",
   "execution_count": 2,
   "metadata": {},
   "outputs": [
    {
     "name": "stdout",
     "output_type": "stream",
     "text": [
      "ζ(3) = 1.202056903159594\n",
      "μ_e / T = 4.385e-10\n"
     ]
    }
   ],
   "source": [
    "import numpy as np\n",
    "from scipy.special import zeta\n",
    "\n",
    "# Constants in natural units\n",
    "eta = 6e-10  # baryon-to-photon ratio\n",
    "\n",
    "# Calculate Riemann zeta(3)\n",
    "zeta_3 = zeta(3)\n",
    "\n",
    "# Compute mu_e / T (dimensionless)\n",
    "x = 6 * eta * zeta_3 / (np.pi ** 2)\n",
    "\n",
    "print(f\"ζ(3) = {zeta_3:.15f}\")\n",
    "print(f\"μ_e / T = {x:.3e}\")\n"
   ]
  },
  {
   "cell_type": "code",
   "execution_count": null,
   "metadata": {},
   "outputs": [],
   "source": [
    "4.3\\times10^{-10}"
   ]
  }
 ],
 "metadata": {
  "kernelspec": {
   "display_name": "masters_thesis",
   "language": "python",
   "name": "python3"
  },
  "language_info": {
   "codemirror_mode": {
    "name": "ipython",
    "version": 3
   },
   "file_extension": ".py",
   "mimetype": "text/x-python",
   "name": "python",
   "nbconvert_exporter": "python",
   "pygments_lexer": "ipython3",
   "version": "3.12.9"
  }
 },
 "nbformat": 4,
 "nbformat_minor": 2
}
