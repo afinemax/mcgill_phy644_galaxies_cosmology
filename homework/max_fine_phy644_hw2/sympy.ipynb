{
 "cells": [
  {
   "cell_type": "code",
   "execution_count": 10,
   "metadata": {},
   "outputs": [
    {
     "name": "stdout",
     "output_type": "stream",
     "text": [
      "Symbolic integral result (simplified):\n",
      "      π                     \n",
      "      ─                     \n",
      "      2                     \n",
      "      ⌠                     \n",
      "      ⎮     sin(2⋅θ)        \n",
      "√2⋅r₀⋅⎮ ───────────────── dθ\n",
      "      ⎮      ____________   \n",
      "      ⎮     ╱    G⋅M        \n",
      "      ⎮    ╱  ──────────    \n",
      "      ⎮   ╱         2       \n",
      "      ⎮ ╲╱    r₀⋅tan (θ)    \n",
      "      ⌡                     \n",
      "      0                     \n",
      "────────────────────────────\n",
      "             2              \n"
     ]
    }
   ],
   "source": [
    "import sympy as sp\n",
    "\n",
    "# Define symbols\n",
    "G, M, r0, theta = sp.symbols('G M r0 theta')\n",
    "\n",
    "# Substitution: r = r0 * sin^2(theta)\n",
    "r = r0 * sp.sin(theta)**2\n",
    "dr = sp.diff(r, theta)\n",
    "\n",
    "# Define the integrand under substitution\n",
    "integrand = dr / sp.sqrt(2 * G * M * (1/r - 1/r0))\n",
    "\n",
    "# New integration limits: r=0 -> theta=0, r=r0 -> theta=pi/2\n",
    "t_ff = sp.integrate(integrand, (theta, 0, sp.pi/2))\n",
    "\n",
    "# Simplify the result\n",
    "t_ff_simplified = sp.simplify(t_ff)\n",
    "\n",
    "# Display the result\n",
    "print(\"Symbolic integral result (simplified):\")\n",
    "sp.pprint(t_ff_simplified)\n"
   ]
  },
  {
   "cell_type": "code",
   "execution_count": 6,
   "metadata": {},
   "outputs": [
    {
     "data": {
      "text/plain": [
       "0.3535533905932738"
      ]
     },
     "execution_count": 6,
     "metadata": {},
     "output_type": "execute_result"
    }
   ],
   "source": [
    "import numpy as np \n",
    "\n",
    "np.sqrt(4/32)"
   ]
  },
  {
   "cell_type": "markdown",
   "metadata": {},
   "source": []
  }
 ],
 "metadata": {
  "kernelspec": {
   "display_name": "masters_thesis",
   "language": "python",
   "name": "python3"
  },
  "language_info": {
   "codemirror_mode": {
    "name": "ipython",
    "version": 3
   },
   "file_extension": ".py",
   "mimetype": "text/x-python",
   "name": "python",
   "nbconvert_exporter": "python",
   "pygments_lexer": "ipython3",
   "version": "3.12.9"
  }
 },
 "nbformat": 4,
 "nbformat_minor": 2
}
