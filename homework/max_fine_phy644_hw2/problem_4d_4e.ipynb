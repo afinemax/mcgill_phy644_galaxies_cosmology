{
 "cells": [
  {
   "cell_type": "markdown",
   "metadata": {},
   "source": [
    "# Maxwell A. Fine\n",
    "**Date:** September 2025  \n",
    "**Course:** PHY644 – Galaxies and Cosmology  \n",
    "**Homework 2**  \n",
    "**Problem 4**\n",
    "\n",
    "\n",
    "\n",
    "For problem **4D**, and **4E**, we are asked to apply the equation we derived in **4C** listed here\n",
    "$$\\boxed{t_{\\mathrm{crash}} = \\frac{r_i^2v_c}{8\\pi G M}[\\operatorname{erf}(1) - \\frac{2}  {\\sqrt{\\pi}}e^{-1}]^{-1}}$$"
   ]
  },
  {
   "cell_type": "code",
   "execution_count": 6,
   "metadata": {},
   "outputs": [],
   "source": [
    "import numpy as np \n",
    "from astropy import units as u\n",
    "from astropy.constants import G\n",
    "from scipy.special import erf\n",
    "\n",
    "\n",
    "def t_crash(r_i, v_c, M, b_max=None, b_min=None):\n",
    "    \"\"\"\n",
    "    Calculate the dynamical friction time (crash time) \n",
    "    \n",
    "    Parameters\n",
    "    ----------\n",
    "    r_i : astropy Quantity\n",
    "        Initial distance from the center [length units]\n",
    "    v_c : astropy Quantity\n",
    "        Circular velocity [speed units]\n",
    "    M : astropy Quantity\n",
    "        Mass of the satellite [mass units]\n",
    "    b_max : astropy Quantity, optional\n",
    "        Maximum impact parameter (default = r_i)\n",
    "    b_min : astropy Quantity, optional\n",
    "        Minimum impact parameter (default = 1 pc)\n",
    "        \n",
    "    Returns\n",
    "    -------\n",
    "    t_crash : astropy Quantity\n",
    "        Time for the cluster to sink to the center [time units]\n",
    "    \"\"\"\n",
    "    if b_max is None:\n",
    "        b_max = r_i\n",
    "    if b_min is None:\n",
    "        b_min = 1 * u.pc  # typical minimum impact parameter\n",
    "    \n",
    "    # Coulomb logarithm\n",
    "    ln_Lambda = np.log((b_max/b_min).decompose())\n",
    "    \n",
    "    # Constant factor from the formula\n",
    "    factor = (erf(1) - 2/np.sqrt(np.pi) * np.exp(-1))**(-1)\n",
    "    \n",
    "    # Dynamical friction timescale\n",
    "    t = (r_i**2 * v_c) / (8 * np.pi * G * M * ln_Lambda) * factor\n",
    "    return t.to(u.Gyr)\n"
   ]
  },
  {
   "cell_type": "markdown",
   "metadata": {},
   "source": [
    "### Problem 4D"
   ]
  },
  {
   "cell_type": "code",
   "execution_count": 7,
   "metadata": {},
   "outputs": [
    {
     "name": "stdout",
     "output_type": "stream",
     "text": [
      "Dynamical friction crash time for M31's globular cluster: 0.56 Gyr\n",
      "Age of the Universe ≈ 13.8 Gyr, so t_crash / age_universe = 0.04\n"
     ]
    }
   ],
   "source": [
    "# Given parameters for M31's brightest globular cluster\n",
    "M_gc = 5e6 * u.Msun\n",
    "r_i_gc = 2 * u.kpc\n",
    "v_c_M31 = 250 * u.km/u.s\n",
    "\n",
    "# Compute crash time\n",
    "t_gc = t_crash(r_i_gc, v_c_M31, M_gc)\n",
    "print(f\"Dynamical friction crash time for M31's globular cluster: {t_gc:.2f}\")\n",
    "print(f\"Age of the Universe ≈ 13.8 Gyr, so t_crash / age_universe = {t_gc.value / 13.8:.2f}\")"
   ]
  },
  {
   "cell_type": "code",
   "execution_count": 12,
   "metadata": {},
   "outputs": [
    {
     "name": "stdout",
     "output_type": "stream",
     "text": [
      "Large Magellanic Cloud:\n",
      "Crash time = 0.01 Gyr\n",
      "Age of the Universe ≈ 13.8 Gyr, so t_crash / age_universe = 0.001\n"
     ]
    }
   ],
   "source": [
    "### Problem 4E\n",
    "\n",
    "M_LMC = 1.4e11 * u.Msun\n",
    "r_i_LMC = 50 * u.kpc\n",
    "v_c_MW = 220 * u.km/u.s\n",
    "\n",
    "t_LMC = t_crash(r_i_LMC, v_c_MW, M_LMC)\n",
    "print(\"Large Magellanic Cloud:\")\n",
    "print(f\"Crash time = {t_LMC:.2f}\")\n",
    "print(f\"Age of the Universe ≈ 13.8 Gyr, so t_crash / age_universe = {t_LMC.value / 13.8:.3f}\")"
   ]
  },
  {
   "cell_type": "markdown",
   "metadata": {},
   "source": []
  }
 ],
 "metadata": {
  "kernelspec": {
   "display_name": "masters_thesis",
   "language": "python",
   "name": "python3"
  },
  "language_info": {
   "codemirror_mode": {
    "name": "ipython",
    "version": 3
   },
   "file_extension": ".py",
   "mimetype": "text/x-python",
   "name": "python",
   "nbconvert_exporter": "python",
   "pygments_lexer": "ipython3",
   "version": "3.12.9"
  }
 },
 "nbformat": 4,
 "nbformat_minor": 2
}
