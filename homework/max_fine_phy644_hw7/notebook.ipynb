{
 "cells": [
  {
   "cell_type": "code",
   "execution_count": 3,
   "metadata": {},
   "outputs": [
    {
     "name": "stdout",
     "output_type": "stream",
     "text": [
      "Prefactor = 8.095897552394895e-11\n"
     ]
    }
   ],
   "source": [
    "import numpy as np\n",
    "import astropy.units as u\n",
    "from astropy.constants import G, c, hbar\n",
    "\n",
    "# Define Hubble constant (in terms of h)\n",
    "H0 = 100 * u.km / u.s / u.Mpc  # H0 = 100 h km/s/Mpc\n",
    "\n",
    "# Critical density in SI (kg/m^3)\n",
    "rho_crit = 3 * H0**2 / (8 * np.pi * G)\n",
    "\n",
    "# Convert to energy density (J/m^3)\n",
    "rho_crit = (rho_crit * c**2).to(u.J / u.m**3)\n",
    "\n",
    "# Convert J -> eV\n",
    "rho_crit_eV = rho_crit.to(u.eV / u.m**3)\n",
    "\n",
    "# Convert from per m^3 to per eV^3 using ħc (since 1 m = (ħc)^(-1) eV^-1)\n",
    "# (ħ c) ≈ 197.326 eV·nm = 1.97327e-7 eV·m\n",
    "hc_eV_m = (hbar * c).to(u.eV * u.m)\n",
    "rho_crit_eV3 = (rho_crit_eV * hc_eV_m**3).to(u.eV**4)  # energy density → eV^4\n",
    "# Divide by 1 eV to get number density (since n = ρ/m)\n",
    "prefactor = (rho_crit_eV3 / (1 * u.eV)).to(u.eV**3)\n",
    "\n",
    "print(\"Prefactor =\", prefactor.value)\n"
   ]
  },
  {
   "cell_type": "code",
   "execution_count": null,
   "metadata": {},
   "outputs": [],
   "source": [
    "Prefactor = 8.095897552394895e-11\n"
   ]
  }
 ],
 "metadata": {
  "kernelspec": {
   "display_name": "masters_thesis",
   "language": "python",
   "name": "python3"
  },
  "language_info": {
   "codemirror_mode": {
    "name": "ipython",
    "version": 3
   },
   "file_extension": ".py",
   "mimetype": "text/x-python",
   "name": "python",
   "nbconvert_exporter": "python",
   "pygments_lexer": "ipython3",
   "version": "3.12.9"
  }
 },
 "nbformat": 4,
 "nbformat_minor": 2
}
