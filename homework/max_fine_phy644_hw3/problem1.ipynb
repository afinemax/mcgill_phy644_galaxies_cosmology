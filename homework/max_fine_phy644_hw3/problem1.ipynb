{
 "cells": [
  {
   "cell_type": "markdown",
   "metadata": {},
   "source": [
    "# PHYS644 Problem set 3\n",
    "## Maxwell A. Fine\n",
    "\n",
    "\n",
    "\n",
    "$$\\boxed{\\Sigma = \\frac{8\\sigma_z^2}{2 \\pi Gh}}$$\n",
    "\n",
    "$h = 300$ pc\n",
    "\n",
    "$σ_z = 20$ km /s \n",
    "\n",
    "# use astropy units and calculate sigma "
   ]
  },
  {
   "cell_type": "code",
   "execution_count": 3,
   "metadata": {},
   "outputs": [
    {
     "name": "stdout",
     "output_type": "stream",
     "text": [
      "Σ = 49.33984484370324 solMass / pc2\n",
      "Σ = 0.010303922876005192 g / cm2\n"
     ]
    }
   ],
   "source": [
    "import astropy.units as u\n",
    "from astropy.constants import G\n",
    "import numpy as np\n",
    "\n",
    "# given values\n",
    "h = 300 * u.pc\n",
    "sigma_z = 20 * u.km / u.s\n",
    "\n",
    "# formula\n",
    "Sigma = (sigma_z**2) / (2*np.pi * G * h)\n",
    "\n",
    "# choose convenient units for surface density, e.g. Msun / pc^2\n",
    "# print in Msun/pc^2\n",
    "print(\"Σ =\", Sigma.to(u.Msun / u.pc**2))\n",
    "\n",
    "# print in g/cm^2\n",
    "print(\"Σ =\", Sigma.to(u.g / u.cm**2))"
   ]
  },
  {
   "cell_type": "code",
   "execution_count": null,
   "metadata": {},
   "outputs": [],
   "source": []
  }
 ],
 "metadata": {
  "kernelspec": {
   "display_name": "masters_thesis",
   "language": "python",
   "name": "python3"
  },
  "language_info": {
   "codemirror_mode": {
    "name": "ipython",
    "version": 3
   },
   "file_extension": ".py",
   "mimetype": "text/x-python",
   "name": "python",
   "nbconvert_exporter": "python",
   "pygments_lexer": "ipython3",
   "version": "3.12.9"
  }
 },
 "nbformat": 4,
 "nbformat_minor": 2
}
