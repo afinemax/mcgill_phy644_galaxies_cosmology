{
 "cells": [
  {
   "cell_type": "markdown",
   "metadata": {},
   "source": [
    "# PHY644\n",
    "## Maxwell A. Fine \n",
    "\n",
    "Here we are doing an OOM problem \n",
    "\n",
    "With\n",
    "\n",
    "$$v_v = \\sqrt{\\frac{GM_v}{r_v}}$$\n",
    "\n",
    "$M_v \\sim 10^{12} $M_{\\odot}$, and $r_v = 200$ kpc\n",
    "\n",
    "\n",
    "We are told: $c_s ∼ 12 $ km/s\n",
    "\n",
    "The mach number is then $\\mathcal{M} = \\frac{v_v}{c_s}$\n",
    "\n",
    "\n",
    "Then we are asked:\n",
    "\n",
    "to find the temperature $T$, I think it can be given by:\n",
    "\n",
    "$$T = \\frac{\\mu m_p v_v^2}{2}$$\n",
    "\n",
    "with $μ = 0.5$\n"
   ]
  },
  {
   "cell_type": "code",
   "execution_count": 9,
   "metadata": {},
   "outputs": [
    {
     "name": "stdout",
     "output_type": "stream",
     "text": [
      "Virial velocity v_v = 146.64 km / s\n",
      "Mach number M = 12.2\n",
      "Temperature T = 1.30e+06 K\n"
     ]
    }
   ],
   "source": [
    "import astropy.constants as const\n",
    "import astropy.units as u\n",
    "\n",
    "# Given parameters\n",
    "M_v = 1e12 * const.M_sun       # virial mass\n",
    "r_v = 200 * u.kpc              # virial radius\n",
    "c_s = 12 * (u.km/u.s)          # sound speed\n",
    "\n",
    "# Virial velocity\n",
    "v_v = (const.G * M_v / r_v)**0.5\n",
    "\n",
    "\n",
    "# Mach number (dimensionless)\n",
    "Mach = (v_v / c_s).decompose()\n",
    "\n",
    "print(f\"Virial velocity v_v = {v_v.to(u.km/u.s):.2f}\")\n",
    "print(f\"Mach number M = {Mach.value:.1f}\")\n",
    "\n",
    "\n",
    "# in part be \n",
    "\n",
    "# Mean molecular weight\n",
    "mu = 0.5\n",
    "\n",
    "# Temperature\n",
    "T = (mu * const.m_p * v_v**2 / const.k_B).decompose()\n",
    "\n",
    "print(f\"Temperature T = {T:.2e}\")"
   ]
  },
  {
   "cell_type": "code",
   "execution_count": 6,
   "metadata": {},
   "outputs": [
    {
     "data": {
      "text/plain": [
       "8.333333333333334"
      ]
     },
     "execution_count": 6,
     "metadata": {},
     "output_type": "execute_result"
    }
   ],
   "source": [
    "\n",
    "\n",
    "# "
   ]
  },
  {
   "cell_type": "code",
   "execution_count": null,
   "metadata": {},
   "outputs": [],
   "source": []
  }
 ],
 "metadata": {
  "kernelspec": {
   "display_name": "masters_thesis",
   "language": "python",
   "name": "python3"
  },
  "language_info": {
   "codemirror_mode": {
    "name": "ipython",
    "version": 3
   },
   "file_extension": ".py",
   "mimetype": "text/x-python",
   "name": "python",
   "nbconvert_exporter": "python",
   "pygments_lexer": "ipython3",
   "version": "3.12.9"
  }
 },
 "nbformat": 4,
 "nbformat_minor": 2
}
